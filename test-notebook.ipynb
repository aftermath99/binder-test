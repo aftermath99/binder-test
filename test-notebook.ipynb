!/usr/bin/env python
# coding: utf-8

# Introduction to Python
# ===
# Introduction to Python is a resource for students who want to learn Python as their first language, and for teachers who want a free and open curriculum to use with their students.
# 
# If you are viewing the project through IPython Notebook Viewer, you might want to visit the student-facing pages at [introtopython.org](http://introtopython.org). There is a cleaner navigation there, and some better overall styling.

# Start Learning Python
# ---
# If your computer is already set up to run Python programs, you can get started with [Hello World](http://nbviewer.ipython.org/urls/raw.github.com/ehmatthes/intro_programming/master/notebooks/hello_world.ipynb), your very first Python program.

# Set Up Your Programming Environment
# ---
# If your computer is not yet set up to run Python programs, we can show you how to [get Python up and running](http://nbviewer.ipython.org/urls/raw.github.com/ehmatthes/intro_programming/master/notebooks/programming_environment.ipynb).

# Contribute
# ---
# If you already know Python and would like to help build Introduction to Python, see the project's [GitHub page](https://github.com/ehmatthes/intro_programming). You might want to look at [Issue 17](https://github.com/ehmatthes/intro_programming/issues/17), which discusses a few specific ways you can contribute to the project.

